{
 "cells": [
  {
   "cell_type": "code",
   "execution_count": 2,
   "id": "96dae3a7-596f-4579-94a0-de74f49e47d9",
   "metadata": {},
   "outputs": [],
   "source": [
    "## First, check to see if lightning is installed, if not, install it.\n",
    "import pip\n",
    "try:\n",
    "  __import__(\"lightning\")\n",
    "except ImportError:\n",
    "  pip.main(['install', \"lightning\"])  \n",
    "\n",
    "import torch ## torch let's us create tensors and also provides helper functions\n",
    "import torch.nn as nn ## torch.nn gives us nn.Module(), nn.Embedding() and nn.Linear()\n",
    "import torch.nn.functional as F # This gives us the softmax() and argmax()\n",
    "from torch.optim import Adam ## We will use the Adam optimizer, which is, essentially, \n",
    "                             ## a slightly less stochastic version of stochastic gradient descent.\n",
    "from torch.utils.data import TensorDataset, DataLoader ## We'll store our data in DataLoaders\n",
    "\n",
    "import lightning as L ## Lightning makes it easier to write, optimize and scale our code"
   ]
  },
  {
   "cell_type": "code",
   "execution_count": 3,
   "id": "a4dacf82-38e9-44eb-87ca-5f9d4b5c7ba1",
   "metadata": {},
   "outputs": [],
   "source": [
    "class PositionEncoding(nn.Module):\n",
    "    \n",
    "    def __init__(self, d_model=2, max_len=6):\n",
    "        \n",
    "        super().__init__()\n",
    "        \n",
    "        pe = torch.zeros(max_len, d_model)\n",
    "        \n",
    "        position = torch.arange(start=0, end=max_len, step=1).float().unsqueeze(1)\n",
    "        embedding_index = torch.arange(start=0, end=d_model, step=2).float()\n",
    "        \n",
    "        div_term = 1/torch.tensor(10000.0)**(embedding_index / d_model)\n",
    "        \n",
    "\n",
    "        pe[:, 0::2] = torch.sin(position * div_term) \n",
    "        pe[:, 1::2] = torch.cos(position * div_term) \n",
    "        \n",
    "        self.register_buffer('pe', pe) \n",
    "\n",
    "        \n",
    "    def forward(self, word_embeddings):\n",
    "        \n",
    "        return word_embeddings + self.pe[:word_embeddings.size(0), :] "
   ]
  },
  {
   "cell_type": "code",
   "execution_count": 4,
   "id": "b3d80fba-2d02-48af-b313-c8515e1a06e0",
   "metadata": {},
   "outputs": [],
   "source": [
    "class Attention(nn.Module): \n",
    "    \n",
    "    def __init__(self, d_model=2):\n",
    "        \n",
    "        super().__init__()\n",
    "        \n",
    "        self.W_q = nn.Linear(in_features=d_model, out_features=d_model, bias=False)\n",
    "        self.W_k = nn.Linear(in_features=d_model, out_features=d_model, bias=False)\n",
    "        self.W_v = nn.Linear(in_features=d_model, out_features=d_model, bias=False)\n",
    "        \n",
    "        self.row_dim = 0\n",
    "        self.col_dim = 1\n",
    "\n",
    "        \n",
    "    def forward(self, encodings_for_q, encodings_for_k, encodings_for_v, mask=None):\n",
    "\n",
    "        q = self.W_q(encodings_for_q)\n",
    "        k = self.W_k(encodings_for_k)\n",
    "        v = self.W_v(encodings_for_v)\n",
    "\n",
    "        sims = torch.matmul(q, k.transpose(dim0=self.row_dim, dim1=self.col_dim))\n",
    "\n",
    "        scaled_sims = sims / torch.tensor(k.size(self.col_dim)**0.5)\n",
    "\n",
    "        if mask is not None:\n",
    "            mask = mask.to(scaled_sims.device)  # Move mask to the same device as scaled_sims\n",
    "            scaled_sims = scaled_sims.masked_fill(mask=mask, value=-1e9)\n",
    "        \n",
    "        attention_percents = F.softmax(scaled_sims, dim=self.col_dim)\n",
    "        attention_scores = torch.matmul(attention_percents, v)\n",
    "        \n",
    "        return attention_scores"
   ]
  },
  {
   "cell_type": "code",
   "execution_count": 5,
   "id": "b1a60b14-8da3-4e49-a036-146a439d48cb",
   "metadata": {},
   "outputs": [],
   "source": [
    "class DecoderOnlyTransformer(L.LightningModule):\n",
    "    \n",
    "    def __init__(self, num_tokens=4, d_model=2, max_len=6):\n",
    "        \n",
    "        super().__init__()\n",
    "        \n",
    "        L.seed_everything(seed=42)\n",
    "        \n",
    "        self.we = nn.Embedding(num_embeddings=num_tokens, \n",
    "                               embedding_dim=d_model)     \n",
    "        self.pe = PositionEncoding(d_model=d_model, \n",
    "                                   max_len=max_len)\n",
    "        self.self_attention = Attention(d_model=d_model)\n",
    "        self.fc_layer = nn.Linear(in_features=d_model, out_features=num_tokens)\n",
    "        \n",
    "        self.loss = nn.CrossEntropyLoss()\n",
    "        \n",
    "        \n",
    "    def forward(self, token_ids):\n",
    "                \n",
    "        word_embeddings = self.we(token_ids)        \n",
    "        position_encoded = self.pe(word_embeddings)\n",
    "        \n",
    "        mask = torch.tril(torch.ones((token_ids.size(dim=0), token_ids.size(dim=0))))\n",
    "        mask = mask == 0\n",
    "        \n",
    "        self_attention_values = self.self_attention(position_encoded, \n",
    "                                                    position_encoded, \n",
    "                                                    position_encoded, \n",
    "                                                    mask=mask)\n",
    "                \n",
    "        residual_connection_values = position_encoded + self_attention_values        \n",
    "        fc_layer_output = self.fc_layer(residual_connection_values)\n",
    "        \n",
    "        return fc_layer_output\n",
    "    \n",
    "  \n",
    "    def configure_optimizers(self): \n",
    "        return Adam(self.parameters(), lr=0.1)\n",
    "    \n",
    "    \n",
    "    def training_step(self, batch, batch_idx): \n",
    "        input_tokens, labels = batch # collect input\n",
    "        output = self.forward(input_tokens[0])\n",
    "        loss = self.loss(output, labels[0])\n",
    "                    \n",
    "        return loss"
   ]
  },
  {
   "cell_type": "code",
   "execution_count": null,
   "id": "fd69f74e-12e2-42c5-8402-2d968143eaeb",
   "metadata": {},
   "outputs": [],
   "source": []
  },
  {
   "cell_type": "code",
   "execution_count": 6,
   "id": "7111ebaa-1dc3-4191-b4a4-0c9a2ec7d50b",
   "metadata": {},
   "outputs": [],
   "source": [
    "## first, we create a dictionary that maps vocabulary tokens to id numbers...\n",
    "token_to_id = {'what' : 0,\n",
    "               'is' : 1,\n",
    "               'apple' : 2,\n",
    "               'healthy': 3,\n",
    "               '<EOS>' : 4, ## <EOS> = end of sequence\n",
    "              }\n",
    "id_to_token = dict(map(reversed, token_to_id.items()))\n",
    "inputs = torch.tensor([[token_to_id[\"what\"], ## input #1: what is statquest <EOS> awesome\n",
    "                        token_to_id[\"is\"], \n",
    "                        token_to_id[\"apple\"], \n",
    "                        token_to_id[\"<EOS>\"],\n",
    "                        token_to_id[\"healthy\"]], \n",
    "                       \n",
    "                       [token_to_id[\"apple\"], # input #2: statquest is what <EOS> awesome\n",
    "                        token_to_id[\"is\"], \n",
    "                        token_to_id[\"what\"], \n",
    "                        token_to_id[\"<EOS>\"], \n",
    "                        token_to_id[\"healthy\"]]])\n",
    "\n",
    "## NOTE: Because we are using a Decoder-Only Transformer the outputs, or\n",
    "##       the predictions, are the input questions (minus the first word) followed by \n",
    "##       <EOS> awesome <EOS>.  The first <EOS> means we're done processing the input question\n",
    "##       and the second <EOS> means we are done generating the output.\n",
    "##       See the illustration above for more details.\n",
    "labels = torch.tensor([[token_to_id[\"is\"], \n",
    "                        token_to_id[\"apple\"], \n",
    "                        token_to_id[\"<EOS>\"], \n",
    "                        token_to_id[\"healthy\"], \n",
    "                        token_to_id[\"<EOS>\"]],  \n",
    "                       \n",
    "                       [token_to_id[\"is\"], \n",
    "                        token_to_id[\"what\"], \n",
    "                        token_to_id[\"<EOS>\"], \n",
    "                        token_to_id[\"healthy\"], \n",
    "                        token_to_id[\"<EOS>\"]]])\n",
    "\n",
    "## Now let's package everything up into a DataLoader...\n",
    "dataset = TensorDataset(inputs, labels) \n",
    "dataloader = DataLoader(dataset)"
   ]
  },
  {
   "cell_type": "code",
   "execution_count": 7,
   "id": "fc1c466f-03cb-4431-b9dc-67b52f3f207c",
   "metadata": {},
   "outputs": [
    {
     "name": "stdout",
     "output_type": "stream",
     "text": [
      "tensor([[0, 1, 2, 4, 3],\n",
      "        [2, 1, 0, 4, 3]])\n"
     ]
    }
   ],
   "source": [
    "print(inputs)"
   ]
  },
  {
   "cell_type": "code",
   "execution_count": 8,
   "id": "5f747fdf-daae-435e-8567-d1e7f6d63b33",
   "metadata": {},
   "outputs": [
    {
     "name": "stdout",
     "output_type": "stream",
     "text": [
      "tensor([[1, 2, 4, 3, 4],\n",
      "        [1, 0, 4, 3, 4]])\n"
     ]
    }
   ],
   "source": [
    "print(labels)"
   ]
  },
  {
   "cell_type": "code",
   "execution_count": 9,
   "id": "b092d551-0fdc-4174-9692-adb1a76581df",
   "metadata": {},
   "outputs": [
    {
     "name": "stderr",
     "output_type": "stream",
     "text": [
      "Seed set to 42\n"
     ]
    }
   ],
   "source": [
    "model = DecoderOnlyTransformer(num_tokens=len(token_to_id), d_model=2, max_len=6)\n",
    "\n",
    "## Now create the input for the transformer...\n",
    "model_input = torch.tensor([token_to_id[\"what\"], \n",
    "                            token_to_id[\"is\"], \n",
    "                            token_to_id[\"apple\"], \n",
    "                            token_to_id[\"<EOS>\"]])\n",
    "input_length = model_input.size(dim=0)"
   ]
  },
  {
   "cell_type": "code",
   "execution_count": 10,
   "id": "be8235b6-8f8b-4202-be17-2be6a635b86b",
   "metadata": {},
   "outputs": [
    {
     "name": "stderr",
     "output_type": "stream",
     "text": [
      "You are using the plain ModelCheckpoint callback. Consider using LitModelCheckpoint which with seamless uploading to Model registry.\n",
      "GPU available: True (cuda), used: True\n",
      "TPU available: False, using: 0 TPU cores\n",
      "HPU available: False, using: 0 HPUs\n",
      "C:\\Users\\Ltx\\anaconda3\\envs\\dl_gpu\\Lib\\site-packages\\lightning\\pytorch\\trainer\\connectors\\logger_connector\\logger_connector.py:76: Starting from v1.9.0, `tensorboardX` has been removed as a dependency of the `lightning.pytorch` package, due to potential conflicts with other packages in the ML ecosystem. For this reason, `logger=True` will use `CSVLogger` as the default logger, unless the `tensorboard` or `tensorboardX` packages are found. Please `pip install lightning[extra]` or one of them to enable TensorBoard support by default\n",
      "You are using a CUDA device ('NVIDIA GeForce RTX 3050 Laptop GPU') that has Tensor Cores. To properly utilize them, you should set `torch.set_float32_matmul_precision('medium' | 'high')` which will trade-off precision for performance. For more details, read https://pytorch.org/docs/stable/generated/torch.set_float32_matmul_precision.html#torch.set_float32_matmul_precision\n",
      "LOCAL_RANK: 0 - CUDA_VISIBLE_DEVICES: [0]\n",
      "\n",
      "  | Name           | Type             | Params | Mode \n",
      "------------------------------------------------------------\n",
      "0 | we             | Embedding        | 10     | train\n",
      "1 | pe             | PositionEncoding | 0      | train\n",
      "2 | self_attention | Attention        | 12     | train\n",
      "3 | fc_layer       | Linear           | 15     | train\n",
      "4 | loss           | CrossEntropyLoss | 0      | train\n",
      "------------------------------------------------------------\n",
      "37        Trainable params\n",
      "0         Non-trainable params\n",
      "37        Total params\n",
      "0.000     Total estimated model params size (MB)\n",
      "8         Modules in train mode\n",
      "0         Modules in eval mode\n",
      "C:\\Users\\Ltx\\anaconda3\\envs\\dl_gpu\\Lib\\site-packages\\lightning\\pytorch\\trainer\\connectors\\data_connector.py:425: The 'train_dataloader' does not have many workers which may be a bottleneck. Consider increasing the value of the `num_workers` argument` to `num_workers=15` in the `DataLoader` to improve performance.\n",
      "C:\\Users\\Ltx\\anaconda3\\envs\\dl_gpu\\Lib\\site-packages\\lightning\\pytorch\\loops\\fit_loop.py:310: The number of training batches (2) is smaller than the logging interval Trainer(log_every_n_steps=50). Set a lower value for log_every_n_steps if you want to see logs for the training epoch.\n"
     ]
    },
    {
     "data": {
      "application/vnd.jupyter.widget-view+json": {
       "model_id": "10df1c2460484cc598a084205455031a",
       "version_major": 2,
       "version_minor": 0
      },
      "text/plain": [
       "Training: |                                                                                                   …"
      ]
     },
     "metadata": {},
     "output_type": "display_data"
    },
    {
     "name": "stderr",
     "output_type": "stream",
     "text": [
      "`Trainer.fit` stopped: `max_epochs=30` reached.\n"
     ]
    }
   ],
   "source": [
    "trainer = L.Trainer(max_epochs=30)\n",
    "trainer.fit(model, train_dataloaders=dataloader)"
   ]
  },
  {
   "cell_type": "code",
   "execution_count": 11,
   "id": "79c8bb54-aabe-45a2-8fdb-c7c80fe5d8a1",
   "metadata": {},
   "outputs": [
    {
     "name": "stdout",
     "output_type": "stream",
     "text": [
      "Model input shape before embedding: torch.Size([4])\n",
      "Output shape: torch.Size([4, 5])\n"
     ]
    }
   ],
   "source": [
    "print(\"Model input shape before embedding:\", model_input.shape)\n",
    "output = model(model_input)\n",
    "print(\"Output shape:\", output.shape)\n"
   ]
  },
  {
   "cell_type": "code",
   "execution_count": 32,
   "id": "dc672f81-d0aa-4f24-bd3a-be63406ddb91",
   "metadata": {},
   "outputs": [
    {
     "name": "stdout",
     "output_type": "stream",
     "text": [
      "Predicted Tokens:\n",
      "\n",
      "\t healthy\n",
      "\t <EOS>\n"
     ]
    }
   ],
   "source": [
    "model_input = torch.tensor([token_to_id[\"apple\"], \n",
    "                            token_to_id[\"what\"], \n",
    "                            token_to_id[\"is\"], \n",
    "                            token_to_id[\"<EOS>\"]])\n",
    "input_length = model_input.size(dim=0)\n",
    "\n",
    "predictions = model(model_input) \n",
    "predicted_id = torch.tensor([torch.argmax(predictions[-1,:])])\n",
    "predicted_ids = predicted_id\n",
    "max_length = 6\n",
    "for i in range(input_length, max_length):\n",
    "    if (predicted_id == token_to_id[\"<EOS>\"]): # if the prediction is <EOS>, then we are done\n",
    "        break\n",
    "    \n",
    "    model_input = torch.cat((model_input, predicted_id))\n",
    "    \n",
    "    predictions = model(model_input) \n",
    "    predicted_id = torch.tensor([torch.argmax(predictions[-1,:])])\n",
    "    predicted_ids = torch.cat((predicted_ids, predicted_id))\n",
    "        \n",
    "print(\"Predicted Tokens:\\n\") \n",
    "for id in predicted_ids: \n",
    "    print(\"\\t\", id_to_token[id.item()])"
   ]
  },
  {
   "cell_type": "code",
   "execution_count": 25,
   "id": "c126caa6-97a9-4193-8839-a4e795d5c438",
   "metadata": {},
   "outputs": [
    {
     "name": "stdout",
     "output_type": "stream",
     "text": [
      "Collecting transformers\n",
      "  Downloading transformers-4.50.0-py3-none-any.whl.metadata (39 kB)\n",
      "Requirement already satisfied: filelock in c:\\users\\ltx\\anaconda3\\envs\\dl_gpu\\lib\\site-packages (from transformers) (3.13.1)\n",
      "Requirement already satisfied: huggingface-hub<1.0,>=0.26.0 in c:\\users\\ltx\\anaconda3\\envs\\dl_gpu\\lib\\site-packages (from transformers) (0.26.5)\n",
      "Requirement already satisfied: numpy>=1.17 in c:\\users\\ltx\\anaconda3\\envs\\dl_gpu\\lib\\site-packages (from transformers) (1.26.4)\n",
      "Requirement already satisfied: packaging>=20.0 in c:\\users\\ltx\\anaconda3\\envs\\dl_gpu\\lib\\site-packages (from transformers) (24.1)\n",
      "Requirement already satisfied: pyyaml>=5.1 in c:\\users\\ltx\\anaconda3\\envs\\dl_gpu\\lib\\site-packages (from transformers) (6.0.2)\n",
      "Collecting regex!=2019.12.17 (from transformers)\n",
      "  Downloading regex-2024.11.6-cp312-cp312-win_amd64.whl.metadata (41 kB)\n",
      "Requirement already satisfied: requests in c:\\users\\ltx\\anaconda3\\envs\\dl_gpu\\lib\\site-packages (from transformers) (2.32.3)\n",
      "Collecting tokenizers<0.22,>=0.21 (from transformers)\n",
      "  Downloading tokenizers-0.21.1-cp39-abi3-win_amd64.whl.metadata (6.9 kB)\n",
      "Collecting safetensors>=0.4.3 (from transformers)\n",
      "  Downloading safetensors-0.5.3-cp38-abi3-win_amd64.whl.metadata (3.9 kB)\n",
      "Requirement already satisfied: tqdm>=4.27 in c:\\users\\ltx\\anaconda3\\envs\\dl_gpu\\lib\\site-packages (from transformers) (4.67.1)\n",
      "Requirement already satisfied: fsspec>=2023.5.0 in c:\\users\\ltx\\anaconda3\\envs\\dl_gpu\\lib\\site-packages (from huggingface-hub<1.0,>=0.26.0->transformers) (2024.12.0)\n",
      "Requirement already satisfied: typing-extensions>=3.7.4.3 in c:\\users\\ltx\\anaconda3\\envs\\dl_gpu\\lib\\site-packages (from huggingface-hub<1.0,>=0.26.0->transformers) (4.12.2)\n",
      "Requirement already satisfied: colorama in c:\\users\\ltx\\anaconda3\\envs\\dl_gpu\\lib\\site-packages (from tqdm>=4.27->transformers) (0.4.6)\n",
      "Requirement already satisfied: charset-normalizer<4,>=2 in c:\\users\\ltx\\anaconda3\\envs\\dl_gpu\\lib\\site-packages (from requests->transformers) (3.3.2)\n",
      "Requirement already satisfied: idna<4,>=2.5 in c:\\users\\ltx\\anaconda3\\envs\\dl_gpu\\lib\\site-packages (from requests->transformers) (3.7)\n",
      "Requirement already satisfied: urllib3<3,>=1.21.1 in c:\\users\\ltx\\anaconda3\\envs\\dl_gpu\\lib\\site-packages (from requests->transformers) (2.2.3)\n",
      "Requirement already satisfied: certifi>=2017.4.17 in c:\\users\\ltx\\anaconda3\\envs\\dl_gpu\\lib\\site-packages (from requests->transformers) (2024.12.14)\n",
      "Downloading transformers-4.50.0-py3-none-any.whl (10.2 MB)\n",
      "   ---------------------------------------- 0.0/10.2 MB ? eta -:--:--\n",
      "   ----------------------- ---------------- 6.0/10.2 MB 33.5 MB/s eta 0:00:01\n",
      "   ---------------------------------------- 10.2/10.2 MB 35.2 MB/s eta 0:00:00\n",
      "Downloading regex-2024.11.6-cp312-cp312-win_amd64.whl (273 kB)\n",
      "Downloading safetensors-0.5.3-cp38-abi3-win_amd64.whl (308 kB)\n",
      "Downloading tokenizers-0.21.1-cp39-abi3-win_amd64.whl (2.4 MB)\n",
      "   ---------------------------------------- 0.0/2.4 MB ? eta -:--:--\n",
      "   ---------------------------------------- 2.4/2.4 MB 46.2 MB/s eta 0:00:00\n",
      "Installing collected packages: safetensors, regex, tokenizers, transformers\n",
      "Successfully installed regex-2024.11.6 safetensors-0.5.3 tokenizers-0.21.1 transformers-4.50.0\n"
     ]
    },
    {
     "name": "stderr",
     "output_type": "stream",
     "text": [
      "WARNING: Ignoring invalid distribution ~ltralytics (C:\\Users\\Ltx\\anaconda3\\envs\\dl_gpu\\Lib\\site-packages)\n",
      "WARNING: Ignoring invalid distribution ~ltralytics (C:\\Users\\Ltx\\anaconda3\\envs\\dl_gpu\\Lib\\site-packages)\n",
      "WARNING: Ignoring invalid distribution ~ltralytics (C:\\Users\\Ltx\\anaconda3\\envs\\dl_gpu\\Lib\\site-packages)\n"
     ]
    }
   ],
   "source": [
    "!pip install transformers"
   ]
  },
  {
   "cell_type": "code",
   "execution_count": 15,
   "id": "70b54ff1-05e7-4d89-b0ef-d45859f7cd79",
   "metadata": {},
   "outputs": [
    {
     "name": "stdout",
     "output_type": "stream",
     "text": [
      "Inputs:\n",
      " tensor([[0, 1, 2, 7, 7],\n",
      "        [2, 3, 1, 4, 5]])\n",
      "Labels:\n",
      " tensor([[1, 2, 7, 7, 7],\n",
      "        [3, 1, 4, 5, 7]])\n"
     ]
    }
   ],
   "source": [
    "import torch\n",
    "from torch.utils.data import DataLoader, TensorDataset\n",
    "\n",
    "# Step 1: Define vocabulary\n",
    "token_to_id = {\n",
    "    \"what\": 0, \"is\": 1, \"an\": 2, \"apple\": 3, \n",
    "    \"a\": 4, \"healthy\": 5, \"fruit\": 6, \"<EOS>\": 7\n",
    "}\n",
    "id_to_token = {v: k for k, v in token_to_id.items()}\n",
    "\n",
    "# Step 2: Read the text file\n",
    "file_path = \"data.txt\"  # Replace with actual path\n",
    "\n",
    "with open(file_path, \"r\") as f:\n",
    "    sentences = [line.strip().lower().replace(\"?\", \"\").split() for line in f]  # Tokenize words\n",
    "\n",
    "# Step 3: Convert words to token IDs\n",
    "inputs, labels = [], []\n",
    "\n",
    "for sentence in sentences:\n",
    "    token_ids = [token_to_id[word] for word in sentence if word in token_to_id]  # Convert to IDs\n",
    "\n",
    "    if len(token_ids) > 0:\n",
    "        inputs.append(token_ids)  # Inputs: Original sentence\n",
    "        labels.append(token_ids[1:] + [token_to_id[\"<EOS>\"]])  # Labels: Shifted sentence + <EOS>\n",
    "\n",
    "# Step 4: Pad sequences for batch processing\n",
    "max_length = max(len(seq) for seq in inputs)  # Find longest sequence\n",
    "\n",
    "def pad_sequences(sequences, max_length, pad_value=7):\n",
    "    return [seq + [pad_value] * (max_length - len(seq)) for seq in sequences]\n",
    "\n",
    "inputs = torch.tensor(pad_sequences(inputs, max_length))\n",
    "labels = torch.tensor(pad_sequences(labels, max_length))\n",
    "\n",
    "# Step 5: Create a DataLoader\n",
    "dataset = TensorDataset(inputs, labels)\n",
    "dataloader = DataLoader(dataset, batch_size=2, shuffle=True)\n",
    "\n",
    "# Step 6: Print results\n",
    "print(\"Inputs:\\n\", inputs)\n",
    "print(\"Labels:\\n\", labels)\n"
   ]
  },
  {
   "cell_type": "code",
   "execution_count": 16,
   "id": "7633dc3d-2b9a-4728-aeba-4fa960cff64a",
   "metadata": {},
   "outputs": [
    {
     "name": "stdout",
     "output_type": "stream",
     "text": [
      "8\n"
     ]
    }
   ],
   "source": [
    "num_tokens = len(token_to_id)\n",
    "print(num_tokens)\n"
   ]
  },
  {
   "cell_type": "code",
   "execution_count": 17,
   "id": "961def21-f07b-43ee-aa58-c25a46c7acb9",
   "metadata": {},
   "outputs": [
    {
     "name": "stderr",
     "output_type": "stream",
     "text": [
      "Seed set to 42\n"
     ]
    }
   ],
   "source": [
    "model = DecoderOnlyTransformer(num_tokens=len(token_to_id), d_model=2, max_len=6)\n",
    "\n",
    "\n",
    "## Now create the input for the transformer...\n",
    "model_input = torch.tensor([token_to_id[\"what\"], \n",
    "                            token_to_id[\"is\"], \n",
    "                            token_to_id[\"an\"],\n",
    "                            token_to_id[\"apple\"], \n",
    "                            token_to_id[\"<EOS>\"]])\n",
    "input_length = model_input.size(dim=0)"
   ]
  },
  {
   "cell_type": "code",
   "execution_count": 18,
   "id": "8f158c00-b03b-453c-bcf6-b42896253a9c",
   "metadata": {},
   "outputs": [
    {
     "name": "stderr",
     "output_type": "stream",
     "text": [
      "You are using the plain ModelCheckpoint callback. Consider using LitModelCheckpoint which with seamless uploading to Model registry.\n",
      "GPU available: True (cuda), used: True\n",
      "TPU available: False, using: 0 TPU cores\n",
      "HPU available: False, using: 0 HPUs\n",
      "LOCAL_RANK: 0 - CUDA_VISIBLE_DEVICES: [0]\n",
      "\n",
      "  | Name           | Type             | Params | Mode \n",
      "------------------------------------------------------------\n",
      "0 | we             | Embedding        | 16     | train\n",
      "1 | pe             | PositionEncoding | 0      | train\n",
      "2 | self_attention | Attention        | 12     | train\n",
      "3 | fc_layer       | Linear           | 24     | train\n",
      "4 | loss           | CrossEntropyLoss | 0      | train\n",
      "------------------------------------------------------------\n",
      "52        Trainable params\n",
      "0         Non-trainable params\n",
      "52        Total params\n",
      "0.000     Total estimated model params size (MB)\n",
      "8         Modules in train mode\n",
      "0         Modules in eval mode\n",
      "C:\\Users\\Ltx\\anaconda3\\envs\\dl_gpu\\Lib\\site-packages\\lightning\\pytorch\\loops\\fit_loop.py:310: The number of training batches (1) is smaller than the logging interval Trainer(log_every_n_steps=50). Set a lower value for log_every_n_steps if you want to see logs for the training epoch.\n"
     ]
    },
    {
     "data": {
      "application/vnd.jupyter.widget-view+json": {
       "model_id": "1ce453b18df64fdf85f948dd2002e1b0",
       "version_major": 2,
       "version_minor": 0
      },
      "text/plain": [
       "Training: |                                                                                                   …"
      ]
     },
     "metadata": {},
     "output_type": "display_data"
    },
    {
     "name": "stderr",
     "output_type": "stream",
     "text": [
      "`Trainer.fit` stopped: `max_epochs=300` reached.\n"
     ]
    }
   ],
   "source": [
    "trainer = L.Trainer(max_epochs=300)\n",
    "trainer.fit(model, train_dataloaders=dataloader)"
   ]
  },
  {
   "cell_type": "code",
   "execution_count": 19,
   "id": "a9090c9e-5a63-4fe4-b351-da4d315f3001",
   "metadata": {},
   "outputs": [
    {
     "name": "stdout",
     "output_type": "stream",
     "text": [
      "Predicted Tokens:\n",
      "\n",
      "\t <EOS>\n"
     ]
    }
   ],
   "source": [
    "model_input = torch.tensor([token_to_id[\"what\"], \n",
    "                            token_to_id[\"is\"], \n",
    "                            token_to_id[\"an\"], \n",
    "                            token_to_id[\"apple\"],\n",
    "                            token_to_id[\"<EOS>\"]])\n",
    "input_length = model_input.size(dim=0)\n",
    "\n",
    "predictions = model(model_input) \n",
    "predicted_id = torch.tensor([torch.argmax(predictions[-1,:])])\n",
    "predicted_ids = predicted_id\n",
    "max_length = 6\n",
    "for i in range(input_length, max_length):\n",
    "    if (predicted_id == token_to_id[\"<EOS>\"]): # if the prediction is <EOS>, then we are done\n",
    "        break\n",
    "    \n",
    "    model_input = torch.cat((model_input, predicted_id))\n",
    "    predictions = model(model_input) \n",
    "    predicted_id = torch.tensor([torch.argmax(predictions[-1,:])])\n",
    "    predicted_ids = torch.cat((predicted_ids, predicted_id))\n",
    "        \n",
    "print(\"Predicted Tokens:\\n\") \n",
    "for id in predicted_ids: \n",
    "    print(\"\\t\", id_to_token[id.item()])"
   ]
  },
  {
   "cell_type": "code",
   "execution_count": null,
   "id": "97547715-ba57-4475-98ed-12a1682d7bca",
   "metadata": {},
   "outputs": [],
   "source": []
  }
 ],
 "metadata": {
  "kernelspec": {
   "display_name": "Python 3 (ipykernel)",
   "language": "python",
   "name": "python3"
  },
  "language_info": {
   "codemirror_mode": {
    "name": "ipython",
    "version": 3
   },
   "file_extension": ".py",
   "mimetype": "text/x-python",
   "name": "python",
   "nbconvert_exporter": "python",
   "pygments_lexer": "ipython3",
   "version": "3.12.7"
  }
 },
 "nbformat": 4,
 "nbformat_minor": 5
}
